{
  "nbformat": 4,
  "nbformat_minor": 0,
  "metadata": {
    "colab": {
      "provenance": [],
      "authorship_tag": "ABX9TyPotHE3gSPHXrezCQZtoJeS",
      "include_colab_link": true
    },
    "kernelspec": {
      "name": "python3",
      "display_name": "Python 3"
    },
    "language_info": {
      "name": "python"
    }
  },
  "cells": [
    {
      "cell_type": "markdown",
      "metadata": {
        "id": "view-in-github",
        "colab_type": "text"
      },
      "source": [
        "<a href=\"https://colab.research.google.com/github/Meena-27/COGNIFYZ_l2_04/blob/main/restaurant_chains.ipynb\" target=\"_parent\"><img src=\"https://colab.research.google.com/assets/colab-badge.svg\" alt=\"Open In Colab\"/></a>"
      ]
    },
    {
      "cell_type": "code",
      "source": [
        "import pandas as pd\n",
        "\n",
        "# Load the dataset\n",
        "restaurant_data = pd.read_csv(\"/content/zomato.csv\")\n",
        "\n",
        "# Step 1: Identify Restaurant Chains\n",
        "# Group restaurants by their names to identify chains\n",
        "restaurant_chains = restaurant_data.groupby('restaurant name').size().reset_index(name='chain_count')\n",
        "# Select chains with more than one restaurant\n",
        "restaurant_chains = restaurant_chains[restaurant_chains['chain_count'] > 1]\n",
        "\n",
        "# Step 2: Analyze Ratings and Popularity\n",
        "# Calculate average ratings and popularity for each chain\n",
        "chain_ratings = restaurant_data.groupby('restaurant name')['rate (out of 5)'].mean().reset_index(name='avg_rating')\n",
        "chain_popularity = restaurant_data.groupby('restaurant name')['num of ratings'].sum().reset_index(name='total_ratings')\n",
        "\n",
        "# Merge ratings and popularity dataframes\n",
        "chain_analysis = pd.merge(chain_ratings, chain_popularity, on='restaurant name')\n",
        "\n",
        "# Sort by popularity (total ratings) or average rating, as per requirement\n",
        "# For example, to sort by popularity:\n",
        "chain_analysis = chain_analysis.sort_values(by='total_ratings', ascending=False)\n",
        "\n",
        "# Display the results\n",
        "print(\"Top 10 Restaurant Chains by Popularity:\")\n",
        "print(chain_analysis.head(10))\n"
      ],
      "metadata": {
        "colab": {
          "base_uri": "https://localhost:8080/"
        },
        "id": "Lsgr4ZxjsnLa",
        "outputId": "05ade182-24e5-405a-bf33-df858ba403c2"
      },
      "execution_count": 6,
      "outputs": [
        {
          "output_type": "stream",
          "name": "stdout",
          "text": [
            "Top 10 Restaurant Chains by Popularity:\n",
            "                  restaurant name  avg_rating  total_ratings\n",
            "1034  Byg Brewski Brewing Company         4.9          16345\n",
            "6661                         Toit         4.7          14956\n",
            "6241              The Black Pearl         4.7          10413\n",
            "782                   Big Pitcher         4.6           9272\n",
            "424         Arbor Brewing Company         4.5           8375\n",
            "4802               Prost Brew Pub         4.5           7854\n",
            "1489         Church Street Social         4.3           7544\n",
            "2635                         Hoot         4.2           7193\n",
            "2150                     Flechazo         4.7           7154\n",
            "6379    The Hole in the Wall Cafe         4.6           7113\n"
          ]
        }
      ]
    }
  ]
}